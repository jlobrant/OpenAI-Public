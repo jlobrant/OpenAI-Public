{
 "cells": [
  {
   "cell_type": "markdown",
   "metadata": {},
   "source": [
    "# File Assistant - File Search Demo"
   ]
  },
  {
   "cell_type": "markdown",
   "metadata": {},
   "source": [
    "##### This demo highlights how the Assistant API can help you extract information from PDF using the File Search assistant feature for use cases like Purchase Order Automation\n",
    "\n",
    "##### Assistant API Documentation: https://learn.microsoft.com/en-us/azure/ai-services/openai/how-to/file-search?tabs=python"
   ]
  },
  {
   "cell_type": "markdown",
   "metadata": {},
   "source": [
    "### Load the required libraries"
   ]
  },
  {
   "cell_type": "code",
   "execution_count": 1,
   "metadata": {},
   "outputs": [],
   "source": [
    "from dotenv import dotenv_values\n",
    "from openai import AzureOpenAI\n",
    "from typing_extensions import override\n",
    "from openai import AssistantEventHandler\n",
    "import time"
   ]
  },
  {
   "cell_type": "markdown",
   "metadata": {},
   "source": [
    "### Load the environment variables/configs"
   ]
  },
  {
   "cell_type": "code",
   "execution_count": 2,
   "metadata": {},
   "outputs": [],
   "source": [
    "env_name = \"env.env\" \n",
    "config = dotenv_values(env_name)\n",
    "\n",
    "api_endpoint = config['openai_api_endpoint_assist_v2']\n",
    "api_key = config['openai_api_key_assist_v2']\n",
    "api_version = config['openai_api_version_assist_v2']\n",
    "\n",
    "client = AzureOpenAI(api_key=api_key, api_version=api_version, azure_endpoint=api_endpoint)\n"
   ]
  },
  {
   "cell_type": "markdown",
   "metadata": {},
   "source": [
    "### Create an Assistant"
   ]
  },
  {
   "cell_type": "code",
   "execution_count": 3,
   "metadata": {},
   "outputs": [],
   "source": [
    "assistant = client.beta.assistants.create(\n",
    "  name=\"Purchase Order - Extraction and Insights Assistant\",\n",
    "  instructions=\"You are an AI assistant that helps extract information from purchase orders. Extract all the information requested by the user\",\n",
    "  model=\"gpt-4o\",\n",
    "  tools=[{\"type\": \"file_search\"}],\n",
    ")"
   ]
  },
  {
   "cell_type": "markdown",
   "metadata": {},
   "source": [
    "### Upload the file"
   ]
  },
  {
   "cell_type": "code",
   "execution_count": 4,
   "metadata": {},
   "outputs": [
    {
     "name": "stdout",
     "output_type": "stream",
     "text": [
      "assistant-mRJth6uXwnWIWo4E2smF3wYV\n"
     ]
    }
   ],
   "source": [
    "message_file = client.files.create(\n",
    "  file=open(\"files/Wine-Purchase-Order-Template-TemplateLab.pdf\", \"rb\"), purpose=\"assistants\"\n",
    ")\n",
    "\n",
    "print(message_file.id)"
   ]
  },
  {
   "cell_type": "markdown",
   "metadata": {},
   "source": [
    "### Create the Vector Store and attach it to the Assistant"
   ]
  },
  {
   "cell_type": "code",
   "execution_count": 5,
   "metadata": {},
   "outputs": [
    {
     "name": "stdout",
     "output_type": "stream",
     "text": [
      "vs_XVH73K6eY2fcDFY23TMoG9Qj Purchase Order v0.51\n"
     ]
    }
   ],
   "source": [
    "vector_store = client.beta.vector_stores.create(\n",
    "  name=\"Purchase Order v0.51\"\n",
    ")\n",
    "\n",
    "assistant = client.beta.assistants.update(\n",
    "  assistant_id=assistant.id,\n",
    "  tool_resources={\"file_search\": {\"vector_store_ids\": [vector_store.id]}},\n",
    "  temperature=0.5\n",
    ")\n",
    "\n",
    "print(vector_store.id, vector_store.name)"
   ]
  },
  {
   "cell_type": "markdown",
   "metadata": {},
   "source": [
    "### Add the file to the Vector Store"
   ]
  },
  {
   "cell_type": "code",
   "execution_count": 7,
   "metadata": {},
   "outputs": [
    {
     "name": "stdout",
     "output_type": "stream",
     "text": [
      "assistant-mRJth6uXwnWIWo4E2smF3wYV\n"
     ]
    }
   ],
   "source": [
    "file_vector = client.beta.vector_stores.files.create_and_poll(\n",
    "  vector_store_id=vector_store.id,\n",
    "  file_id=message_file.id\n",
    ")\n",
    "\n",
    "print(file_vector.id)"
   ]
  },
  {
   "cell_type": "markdown",
   "metadata": {},
   "source": [
    "### Create functions to create, process and read the thread"
   ]
  },
  {
   "cell_type": "code",
   "execution_count": 8,
   "metadata": {},
   "outputs": [],
   "source": [
    "class EventHandler(AssistantEventHandler):\n",
    "    @override\n",
    "    def on_text_created(self, text) -> None:\n",
    "        print(f\"\\nassistant > \", end=\"\", flush=True)\n",
    "\n",
    "    @override\n",
    "    def on_tool_call_created(self, tool_call):\n",
    "        print(f\"\\nassistant > {tool_call.type}\\n\", flush=True)\n",
    "\n",
    "    @override\n",
    "    def on_message_done(self, message) -> None:\n",
    "        # print a citation to the file searched\n",
    "        message_content = message.content[0].text\n",
    "        annotations = message_content.annotations\n",
    "        citations = []\n",
    "        for index, annotation in enumerate(annotations):\n",
    "            message_content.value = message_content.value.replace(\n",
    "                annotation.text, f\"[{index}]\"\n",
    "            )\n",
    "            if file_citation := getattr(annotation, \"file_citation\", None):\n",
    "                cited_file = client.files.retrieve(file_citation.file_id)\n",
    "                citations.append(f\"[{index}] {cited_file.filename}\")\n",
    "\n",
    "        print(message_content.value)\n",
    "        print(\"\\n\".join(citations))\n",
    "\n",
    "\n",
    "def format_messages(messages) -> None:\n",
    "    message_list = []\n",
    "\n",
    "    # Get all the messages till the last user message\n",
    "    for message in messages:\n",
    "        message_list.append(message)\n",
    "        if message.role == \"user\":\n",
    "            break\n",
    "\n",
    "    # Reverse the messages to show the last user message first\n",
    "    message_list.reverse()\n",
    "\n",
    "    # Print the user or Assistant messages or images\n",
    "    for message in message_list:\n",
    "        for item in message.content:\n",
    "            if message.role == \"assistant\":\n",
    "                #print(f\"{message.role}:\\n{item.text.value}\\n\")\n",
    "                return_value = item.text.value\n",
    "\n",
    "    return return_value\n",
    "\n",
    "\n",
    "def process_prompt(prompt: str, vector_store_id: str) -> None:\n",
    "\n",
    "    thread = client.beta.threads.create(\n",
    "    messages=[\n",
    "        {\n",
    "        \"role\": \"user\",\n",
    "        \"content\": prompt,\n",
    "        }\n",
    "    ],\n",
    "    tool_resources={ \"file_search\" : { \"vector_store_ids\": [vector_store_id]}}\n",
    "    )\n",
    "\n",
    "    run = client.beta.threads.runs.create(\n",
    "        thread_id=thread.id,\n",
    "        assistant_id=assistant.id,\n",
    "        instructions=\"You are an AI assistant that helps extract information from purchase orders. Extract all the information required by the user question. Output plain text only. Do not output markdown\")\n",
    "\n",
    "    # Check Run details\n",
    "\n",
    "    #print(\"processing ...\")\n",
    "\n",
    "    # with client.beta.threads.runs.stream(\n",
    "    # thread_id=thread.id,\n",
    "    # assistant_id=assistant.id,\n",
    "    # instructions=\"You are an AI assistant that helps extract information from purchase orders. Extract all the information required by the user question.\",\n",
    "    # event_handler=EventHandler(),\n",
    "    # ) as stream:\n",
    "    #     stream.until_done()\n",
    "\n",
    "    while True:\n",
    "        run = client.beta.threads.runs.retrieve(thread_id=thread.id, run_id=run.id)\n",
    "        if run.status == \"completed\":\n",
    "            # Handle completed\n",
    "            messages = client.beta.threads.messages.list(thread_id=thread.id)\n",
    "\n",
    "            break\n",
    "        if run.status == \"failed\":\n",
    "            messages = client.beta.threads.messages.list(thread_id=thread.id)\n",
    "            answer = messages.data[0].content[0].text.value\n",
    "            print(f\"Failed User:\\n{prompt}\\nAssistant:\\n{answer}\\n\")\n",
    "            # Handle failed\n",
    "            break\n",
    "        if run.status == \"expired\":\n",
    "            # Handle expired\n",
    "            print(run)\n",
    "            break\n",
    "        if run.status == \"cancelled\":\n",
    "            # Handle cancelled\n",
    "            print(run)\n",
    "            break\n",
    "        else:\n",
    "            time.sleep(5)\n",
    "\n",
    "    return messages"
   ]
  },
  {
   "cell_type": "markdown",
   "metadata": {},
   "source": [
    "### Submit your request"
   ]
  },
  {
   "cell_type": "code",
   "execution_count": 16,
   "metadata": {},
   "outputs": [],
   "source": [
    "\n",
    "text_message = \"\"\"Extract from the file the Purchase Order Number, PO Status, Supplier Contact Name, Company Name and Address, Customer Contact Name, Company Name and Address, the Delivery Date, Order total and all items in the table.\n",
    "                  Output the information in JSON format in the following structure:\n",
    "                  { po_number:, order_status:, client_id:,customer_contact_name:, customer_company_name:, customer_address:, supplier_contact_name:, supplier_company_name:, supplier_address:, delivery_date:, order_total:, subtotal:, sales_tax:, shipping_cost:, other_costs:,\n",
    "                    items: [{\n",
    "                    item_name:,\n",
    "                    quantity:,\n",
    "                    item_price:,\n",
    "                    item_discount:,\n",
    "                    total:\n",
    "                    }]  }\n",
    "                  If there's not clear order status in the file, put the value as N/A\n",
    "                  Put all dates in the following format dd/MM/YYYY\n",
    "                  For all fields with numbers does not include the currency strings like USD, EUR, LPS, BRL\n",
    "                  For all fields related to taxes, bring the information as is\n",
    "                \"\"\"\n",
    "\n",
    "\n",
    "\n",
    "result_prompt = process_prompt(text_message, vector_store.id)"
   ]
  },
  {
   "cell_type": "code",
   "execution_count": 17,
   "metadata": {},
   "outputs": [],
   "source": [
    "result_assistant = format_messages(result_prompt)"
   ]
  },
  {
   "cell_type": "code",
   "execution_count": 18,
   "metadata": {},
   "outputs": [
    {
     "name": "stdout",
     "output_type": "stream",
     "text": [
      "{\n",
      "  \"po_number\": 679133,\n",
      "  \"order_status\": \"N/A\",\n",
      "  \"client_id\": 12058,\n",
      "  \"customer_contact_name\": \"John Smith\",\n",
      "  \"customer_company_name\": \"Cellar Selections\",\n",
      "  \"customer_address\": \"686 Harrison Lane, Union City, CA, 94587\",\n",
      "  \"supplier_contact_name\": \"Robert Web\",\n",
      "  \"supplier_company_name\": \"RW Wines\",\n",
      "  \"supplier_address\": \"7310 Somerset St., Salinas, CA, 93905\",\n",
      "  \"delivery_date\": \"19/05/2024\",\n",
      "  \"order_total\": 2027.9,\n",
      "  \"subtotal\": 1898,\n",
      "  \"sales_tax\": \"5%\",\n",
      "  \"shipping_cost\": 20,\n",
      "  \"other_costs\": 15,\n",
      "  \"items\": [\n",
      "    {\n",
      "      \"item_name\": \"Cabernet Sauvignon\",\n",
      "      \"quantity\": 4,\n",
      "      \"item_price\": 45,\n",
      "      \"item_discount\": \"5%\",\n",
      "      \"total\": 171\n",
      "    },\n",
      "    {\n",
      "      \"item_name\": \"Rose\",\n",
      "      \"quantity\": 24,\n",
      "      \"item_price\": 25,\n",
      "      \"item_discount\": \"15%\",\n",
      "      \"total\": 510\n",
      "    },\n",
      "    {\n",
      "      \"item_name\": \"Syrah\",\n",
      "      \"quantity\": 12,\n",
      "      \"item_price\": 34,\n",
      "      \"item_discount\": \"15%\",\n",
      "      \"total\": 346.8\n",
      "    },\n",
      "    {\n",
      "      \"item_name\": \"Cabernet Sauvignon\",\n",
      "      \"quantity\": 8,\n",
      "      \"item_price\": 32,\n",
      "      \"item_discount\": \"5%\",\n",
      "      \"total\": 243.2\n",
      "    },\n",
      "    {\n",
      "      \"item_name\": \"Zinfandel\",\n",
      "      \"quantity\": 10,\n",
      "      \"item_price\": 33,\n",
      "      \"item_discount\": \"5%\",\n",
      "      \"total\": 313.5\n",
      "    },\n",
      "    {\n",
      "      \"item_name\": \"Merlot\",\n",
      "      \"quantity\": 5,\n",
      "      \"item_price\": 40,\n",
      "      \"item_discount\": \"5%\",\n",
      "      \"total\": 190\n",
      "    },\n",
      "    {\n",
      "      \"item_name\": \"Cabernet Reserve\",\n",
      "      \"quantity\": 5,\n",
      "      \"item_price\": 26,\n",
      "      \"item_discount\": \"5%\",\n",
      "      \"total\": 123.5\n",
      "    }\n",
      "  ]\n",
      "}\n"
     ]
    }
   ],
   "source": [
    "print(result_assistant)"
   ]
  },
  {
   "cell_type": "markdown",
   "metadata": {},
   "source": [
    "## Cleanup"
   ]
  },
  {
   "cell_type": "markdown",
   "metadata": {},
   "source": [
    "### Deleting Vector Stores & Assistants"
   ]
  },
  {
   "cell_type": "code",
   "execution_count": null,
   "metadata": {},
   "outputs": [],
   "source": [
    "#list_files = client.beta.vector_stores.files.list(vector_store_id=vector_store.id)\n",
    "\n",
    "\n",
    "#for i in list_files.data:\n",
    "#    print(i.id)\n",
    "#    client.beta.vector_stores.files.delete(file_id=i.id, vector_store_id=vector_store.id)"
   ]
  },
  {
   "cell_type": "code",
   "execution_count": 21,
   "metadata": {},
   "outputs": [
    {
     "name": "stdout",
     "output_type": "stream",
     "text": [
      "vs_XVH73K6eY2fcDFY23TMoG9Qj Purchase Order v0.51\n"
     ]
    }
   ],
   "source": [
    "list_vector_stores = client.beta.vector_stores.list()\n",
    "\n",
    "for i in list_vector_stores.data:\n",
    "    print(i.id, i.name)\n",
    "    client.beta.vector_stores.delete(i.id)"
   ]
  },
  {
   "cell_type": "code",
   "execution_count": 22,
   "metadata": {},
   "outputs": [
    {
     "name": "stdout",
     "output_type": "stream",
     "text": [
      "asst_y5yhxwa143dOi9aM3XJnuhQw Purchase Order - Extraction and Insights Assistant\n"
     ]
    }
   ],
   "source": [
    "list_assistants = client.beta.assistants.list(\n",
    "    order=\"desc\",\n",
    "    limit=\"20\",\n",
    ")\n",
    "\n",
    "for i in list_assistants.data:\n",
    "    print(i.id, i.name)\n",
    "    client.beta.assistants.delete(i.id)"
   ]
  }
 ],
 "metadata": {
  "kernelspec": {
   "display_name": "Python 3 (ipykernel)",
   "language": "python",
   "name": "python3"
  },
  "language_info": {
   "codemirror_mode": {
    "name": "ipython",
    "version": 3
   },
   "file_extension": ".py",
   "mimetype": "text/x-python",
   "name": "python",
   "nbconvert_exporter": "python",
   "pygments_lexer": "ipython3",
   "version": "3.9.13"
  }
 },
 "nbformat": 4,
 "nbformat_minor": 4
}
