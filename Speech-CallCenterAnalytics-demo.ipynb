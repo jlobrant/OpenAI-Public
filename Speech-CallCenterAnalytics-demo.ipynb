{
 "cells": [
  {
   "cell_type": "markdown",
   "metadata": {},
   "source": [
    "### Install (if needed) all prereqs below"
   ]
  },
  {
   "cell_type": "code",
   "execution_count": 1,
   "metadata": {},
   "outputs": [],
   "source": [
    "#!pip install requests\n",
    "#!pip install openai\n",
    "#!pip install dotenv"
   ]
  },
  {
   "cell_type": "code",
   "execution_count": 2,
   "metadata": {},
   "outputs": [],
   "source": [
    "import os\n",
    "import requests\n",
    "from dotenv import dotenv_values\n",
    "import json\n",
    "from openai import AzureOpenAI\n",
    "\n",
    "# Create the env file based on the template.env provided. Put all key values, endpoints, etc. according to the template\n",
    "env_name = \"env.env\" \n",
    "config = dotenv_values(env_name)\n"
   ]
  },
  {
   "cell_type": "markdown",
   "metadata": {},
   "source": [
    "#### Using Whisper Model to Transcript a Call Center Call"
   ]
  },
  {
   "cell_type": "code",
   "execution_count": 3,
   "metadata": {},
   "outputs": [],
   "source": [
    "# Configuration\n",
    "\n",
    "# The Whisper model will be used to make the transcript\n",
    "GPT4_WHISPER_KEY = config['openai_api_key_whisper']\n",
    "GPT4_WHISPER_ENDPOINT = config['openai_completion_endpoint_whisper']\n",
    "whisper_model_name = config['openai_api_whisper_model']\n",
    "DEPLOYMENT_W_VERSION = config['openai_api_whisper_version']\n",
    "\n",
    "\n",
    "AUDIO_PATH = \"audio\\Call1_separated_16k_health_insurance.wav\"\n",
    "\n",
    "\n",
    "# And we will use the multi-modal GPT4V to Analyze the content\n",
    "GPT4V_KEY = config['openai_api_key_vision']\n",
    "GPT4V_ENDPOINT = config['openai_completion_endpoint_vision']\n",
    "\n",
    "\n",
    "client_w = AzureOpenAI(\n",
    "  api_key = GPT4_WHISPER_KEY,  \n",
    "  api_version = DEPLOYMENT_W_VERSION,\n",
    "  azure_endpoint = GPT4_WHISPER_ENDPOINT\n",
    ")\n"
   ]
  },
  {
   "cell_type": "code",
   "execution_count": 4,
   "metadata": {},
   "outputs": [],
   "source": [
    "result = client_w.audio.transcriptions.create(\n",
    "            file=open(AUDIO_PATH, \"rb\"),            \n",
    "            model=whisper_model_name\n",
    "        )\n",
    "\n",
    "transcript = result.text"
   ]
  },
  {
   "cell_type": "code",
   "execution_count": 5,
   "metadata": {},
   "outputs": [
    {
     "name": "stdout",
     "output_type": "stream",
     "text": [
      "Hello, thank you for calling Contoso. Who am I speaking with today? Hi, my name is Mary Rondo. I'm trying to enroll myself with Contoso. Hi, Mary. Are you calling because you need health insurance? Yes. Yeah, I'm calling to sign up for insurance. Great. If you can answer a few questions, we can get you signed up into JFE. Okay. So, what's your full name? So, Mary Beth Rondo. Last name is R like Romeo, O like ocean, N like Nancy, D like dog, and O like ocean again. Rondo. Got it. And what's the best callback number in case you get disconnected? I only have a cell phone, so I can give you that. Yep, that'll be fine. Sure. So, it's 234-554-9312. Got it. So, to confirm, it's 234-554-9312? Yep, that's right. Excellent. Let's get some additional information for your application. Do you have a job? Yes, I am self-employed. Okay. So, then you have a social security number as well? Yes, I do. Okay. And what is your social security number, please? Sure. So, it's 412-256789. Sorry, was that a 25 or a 225? You cut out for a bit. It's double two. So, 412, then another two, then five. All right. Thank you so much. And could I have your email address, please? Yeah, it's maryrondo at gmail.com. So, my first and last name at gmail.com. No periods, no dashes. Great. That is the last question. So, let me take your information, and I'll be able to get you signed up right away. Thank you for calling Contoso, and I'll be able to get you signed up immediately. One of our agents will call you back in about 24 hours or so to confirm your application. That was quick. Thank you. Absolutely. If you need anything else, please give us a call at 1-800-555-5564, extension 123. Thank you very much for calling Contoso. Actually, I have one more question. Yes, of course. I'm curious. Will I be getting a physical card as proof of coverage? So, the default is a digital membership card, but we can send you a physical card if you prefer. Yes. Could you please mail it to me when it's ready? I'd like to have it shipped to... Are you ready for my address? So, it's 2660 Unit A on Maple Avenue, Southeast Lansing, and the zip code is 48823. Absolutely. I've made a note on your file. Awesome. Thanks so much. You're very welcome. Thank you for calling Contoso, and have a great day.\n"
     ]
    }
   ],
   "source": [
    "print(transcript)"
   ]
  },
  {
   "cell_type": "code",
   "execution_count": 6,
   "metadata": {},
   "outputs": [],
   "source": [
    "headers = {\n",
    "    \"Content-Type\": \"application/json\",\n",
    "    \"api-key\": GPT4V_KEY,\n",
    "}\n",
    "\n",
    "# Payload for the request\n",
    "payload = {\n",
    "  \"enhancements\": {\n",
    "    \"ocr\": {\n",
    "      \"enabled\": True\n",
    "    },\n",
    "    \"grounding\": {\n",
    "      \"enabled\": True\n",
    "    }\n",
    "  },\n",
    "  \"messages\": [\n",
    "    {\n",
    "      \"role\": \"system\",\n",
    "      \"content\": [\n",
    "        {\n",
    "          \"type\": \"text\",\n",
    "          \"text\": \"\"\"You are an AI assistant that will analyze a call center call\n",
    "          \n",
    "                     This is a Transcript between an agent and a customer conversation. Please identify each one.\n",
    "\n",
    "                     Analyze if the agent asked the full name and the call back contact. Also verify if the agent asked the social security number.\n",
    "                     Analyze if the agent provided information about applying to the health insurance and confirm that a sales agent will call them back\n",
    "                     Verify if the agent asked the customer about their health plan preferences regarding the plan tier, like basic or premium\n",
    "          \n",
    "                     Analyze the customer prompt and generate a score of the general sentiment from 0 to 1, where 0 is negative sentment and 1 positive sentiment\n",
    "\n",
    "                     Provide the results in the following JSON format without markdowns:\n",
    "\n",
    "                     {\n",
    "                     \n",
    "                      callcenter_agent_id: \n",
    "                      customer_id:                      \n",
    "                      tasks_asked_customer_full_name: yes/no\n",
    "                      tasks_asked_callback_contact: yes/no\n",
    "                      tasks_asked_social_security_number: yes/no\n",
    "                      tasks_provided_applying_information: yes/no\n",
    "                      tasks_asked_health_plan_tier_preference: yes/no\n",
    "                      customer_sentiment_score: \n",
    "\n",
    "                     }\n",
    "          \n",
    "          \"\"\"\n",
    "        }\n",
    "      ]\n",
    "    },\n",
    "    {\n",
    "      \"role\": \"user\",\n",
    "      \"content\": [\n",
    "                {\n",
    "          \"type\": \"text\",\n",
    "          \"text\": \"Here are some context for this call. The Agent ID is 021373 and the Customer ID is 980761\"\n",
    "        }\n",
    "      ]\n",
    "    },\n",
    "    {\n",
    "      \"role\": \"user\",\n",
    "      \"content\": [\n",
    "                {\n",
    "          \"type\": \"text\",\n",
    "          \"text\": \"Transcript: \" + transcript\n",
    "        }\n",
    "      ]\n",
    "    }\n",
    "  ],\n",
    "  \"temperature\": 0,\n",
    "  \"top_p\": 0.95,\n",
    "  \"max_tokens\": 4096\n",
    "}\n",
    "\n",
    "\n",
    "\n",
    "# Send request\n",
    "try:\n",
    "    response = requests.post(GPT4V_ENDPOINT, headers=headers, json=payload)\n",
    "    response.raise_for_status()  # Will raise an HTTPError if the HTTP request returned an unsuccessful status code\n",
    "except requests.RequestException as e:\n",
    "    raise SystemExit(f\"Failed to make the request. Error: {e}\")\n",
    "\n",
    "\n",
    "result = response.json()"
   ]
  },
  {
   "cell_type": "code",
   "execution_count": 7,
   "metadata": {},
   "outputs": [
    {
     "name": "stdout",
     "output_type": "stream",
     "text": [
      "{\n",
      "  callcenter_agent_id: 021373\n",
      "  customer_id: 980761                      \n",
      "  tasks_asked_customer_full_name: yes\n",
      "  tasks_asked_callback_contact: yes\n",
      "  tasks_asked_social_security_number: yes\n",
      "  tasks_provided_applying_information: yes\n",
      "  tasks_asked_health_plan_tier_preference: no\n",
      "  customer_sentiment_score: 0.9\n",
      "}\n"
     ]
    }
   ],
   "source": [
    "result = response.json()\n",
    "\n",
    "return_value = result[\"choices\"][0][\"message\"][\"content\"]\n",
    "\n",
    "print(return_value)\n"
   ]
  }
 ],
 "metadata": {
  "kernelspec": {
   "display_name": "Python 3",
   "language": "python",
   "name": "python3"
  },
  "language_info": {
   "codemirror_mode": {
    "name": "ipython",
    "version": 3
   },
   "file_extension": ".py",
   "mimetype": "text/x-python",
   "name": "python",
   "nbconvert_exporter": "python",
   "pygments_lexer": "ipython3",
   "version": "3.9.13"
  }
 },
 "nbformat": 4,
 "nbformat_minor": 2
}
